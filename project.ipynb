{
 "cells": [
  {
   "cell_type": "code",
   "execution_count": 1,
   "id": "16ac0d58",
   "metadata": {},
   "outputs": [],
   "source": [
    "import warnings\n",
    "warnings.filterwarnings('ignore')\n",
    "\n",
    "import numpy as np\n",
    "import pandas as pd"
   ]
  },
  {
   "cell_type": "markdown",
   "id": "a8aab91e",
   "metadata": {},
   "source": [
    "Загружаем тренировочные данные"
   ]
  },
  {
   "cell_type": "code",
   "execution_count": 2,
   "id": "0d28bba7",
   "metadata": {},
   "outputs": [],
   "source": [
    "data = pd.read_csv('train.csv')"
   ]
  },
  {
   "cell_type": "markdown",
   "id": "fae9ec2f",
   "metadata": {},
   "source": [
    "Смотрим на баланс классов"
   ]
  },
  {
   "cell_type": "code",
   "execution_count": 3,
   "id": "51a6694c",
   "metadata": {},
   "outputs": [
    {
     "data": {
      "text/plain": [
       "0    2817\n",
       "1     351\n",
       "Name: Default, dtype: int64"
      ]
     },
     "execution_count": 3,
     "metadata": {},
     "output_type": "execute_result"
    }
   ],
   "source": [
    "data.Default.value_counts()"
   ]
  },
  {
   "cell_type": "markdown",
   "id": "67f73092",
   "metadata": {},
   "source": [
    "Имеем дисбаланс классов. Учтём это при обучении моделей."
   ]
  },
  {
   "cell_type": "markdown",
   "id": "f3ab6fff",
   "metadata": {},
   "source": [
    "Посмотрим на описание числовых и категориальных признаков:"
   ]
  },
  {
   "cell_type": "code",
   "execution_count": 4,
   "id": "33378905",
   "metadata": {},
   "outputs": [
    {
     "data": {
      "text/html": [
       "<div>\n",
       "<style scoped>\n",
       "    .dataframe tbody tr th:only-of-type {\n",
       "        vertical-align: middle;\n",
       "    }\n",
       "\n",
       "    .dataframe tbody tr th {\n",
       "        vertical-align: top;\n",
       "    }\n",
       "\n",
       "    .dataframe thead th {\n",
       "        text-align: right;\n",
       "    }\n",
       "</style>\n",
       "<table border=\"1\" class=\"dataframe\">\n",
       "  <thead>\n",
       "    <tr style=\"text-align: right;\">\n",
       "      <th></th>\n",
       "      <th>Deal_id</th>\n",
       "      <th>Secret_dwarf_info_1</th>\n",
       "      <th>Secret_dwarf_info_2</th>\n",
       "      <th>Secret_dwarf_info_3</th>\n",
       "      <th>Successful_deals_count</th>\n",
       "      <th>Tavern</th>\n",
       "      <th>Hashed_deal_detail_1</th>\n",
       "      <th>Hashed_deal_detail_2</th>\n",
       "      <th>Hashed_deal_detail_3</th>\n",
       "      <th>Hashed_deal_detail_4</th>\n",
       "      <th>Hashed_deal_detail_5</th>\n",
       "      <th>Hashed_deal_detail_6</th>\n",
       "      <th>Age</th>\n",
       "      <th>Default</th>\n",
       "    </tr>\n",
       "  </thead>\n",
       "  <tbody>\n",
       "    <tr>\n",
       "      <th>count</th>\n",
       "      <td>3.168000e+03</td>\n",
       "      <td>535.000000</td>\n",
       "      <td>535.000000</td>\n",
       "      <td>535.000000</td>\n",
       "      <td>3154.000000</td>\n",
       "      <td>3168.000000</td>\n",
       "      <td>3168.000000</td>\n",
       "      <td>3168.000000</td>\n",
       "      <td>3168.000000</td>\n",
       "      <td>3168.000000</td>\n",
       "      <td>3168.000000</td>\n",
       "      <td>3168.0</td>\n",
       "      <td>3168.000000</td>\n",
       "      <td>3168.000000</td>\n",
       "    </tr>\n",
       "    <tr>\n",
       "      <th>mean</th>\n",
       "      <td>4.605727e+07</td>\n",
       "      <td>3.935514</td>\n",
       "      <td>-2.299065</td>\n",
       "      <td>5.267290</td>\n",
       "      <td>1.043754</td>\n",
       "      <td>13.350694</td>\n",
       "      <td>2.518939</td>\n",
       "      <td>-2.404356</td>\n",
       "      <td>8.462437</td>\n",
       "      <td>3.193813</td>\n",
       "      <td>-2.981692</td>\n",
       "      <td>5.0</td>\n",
       "      <td>36.411616</td>\n",
       "      <td>0.110795</td>\n",
       "    </tr>\n",
       "    <tr>\n",
       "      <th>std</th>\n",
       "      <td>5.370953e+07</td>\n",
       "      <td>0.888467</td>\n",
       "      <td>0.734579</td>\n",
       "      <td>0.498645</td>\n",
       "      <td>1.649416</td>\n",
       "      <td>8.851891</td>\n",
       "      <td>0.351308</td>\n",
       "      <td>2.474564</td>\n",
       "      <td>3.521127</td>\n",
       "      <td>2.048743</td>\n",
       "      <td>0.245540</td>\n",
       "      <td>0.0</td>\n",
       "      <td>10.821444</td>\n",
       "      <td>0.313928</td>\n",
       "    </tr>\n",
       "    <tr>\n",
       "      <th>min</th>\n",
       "      <td>5.856790e+05</td>\n",
       "      <td>2.500000</td>\n",
       "      <td>-3.000000</td>\n",
       "      <td>5.000000</td>\n",
       "      <td>0.000000</td>\n",
       "      <td>2.000000</td>\n",
       "      <td>2.500000</td>\n",
       "      <td>-3.000000</td>\n",
       "      <td>5.000000</td>\n",
       "      <td>2.500000</td>\n",
       "      <td>-3.000000</td>\n",
       "      <td>5.0</td>\n",
       "      <td>20.000000</td>\n",
       "      <td>0.000000</td>\n",
       "    </tr>\n",
       "    <tr>\n",
       "      <th>25%</th>\n",
       "      <td>2.761608e+07</td>\n",
       "      <td>3.500000</td>\n",
       "      <td>-3.000000</td>\n",
       "      <td>5.000000</td>\n",
       "      <td>0.000000</td>\n",
       "      <td>7.000000</td>\n",
       "      <td>2.500000</td>\n",
       "      <td>-3.000000</td>\n",
       "      <td>6.000000</td>\n",
       "      <td>2.500000</td>\n",
       "      <td>-3.000000</td>\n",
       "      <td>5.0</td>\n",
       "      <td>28.000000</td>\n",
       "      <td>0.000000</td>\n",
       "    </tr>\n",
       "    <tr>\n",
       "      <th>50%</th>\n",
       "      <td>4.349426e+07</td>\n",
       "      <td>3.500000</td>\n",
       "      <td>-2.000000</td>\n",
       "      <td>5.000000</td>\n",
       "      <td>0.000000</td>\n",
       "      <td>8.000000</td>\n",
       "      <td>2.500000</td>\n",
       "      <td>-3.000000</td>\n",
       "      <td>8.000000</td>\n",
       "      <td>2.500000</td>\n",
       "      <td>-3.000000</td>\n",
       "      <td>5.0</td>\n",
       "      <td>34.000000</td>\n",
       "      <td>0.000000</td>\n",
       "    </tr>\n",
       "    <tr>\n",
       "      <th>75%</th>\n",
       "      <td>5.778544e+07</td>\n",
       "      <td>4.500000</td>\n",
       "      <td>-2.000000</td>\n",
       "      <td>5.000000</td>\n",
       "      <td>2.000000</td>\n",
       "      <td>15.000000</td>\n",
       "      <td>2.500000</td>\n",
       "      <td>-3.000000</td>\n",
       "      <td>10.000000</td>\n",
       "      <td>2.500000</td>\n",
       "      <td>-3.000000</td>\n",
       "      <td>5.0</td>\n",
       "      <td>43.000000</td>\n",
       "      <td>0.000000</td>\n",
       "    </tr>\n",
       "    <tr>\n",
       "      <th>max</th>\n",
       "      <td>6.927701e+08</td>\n",
       "      <td>9.500000</td>\n",
       "      <td>2.000000</td>\n",
       "      <td>8.000000</td>\n",
       "      <td>17.000000</td>\n",
       "      <td>58.000000</td>\n",
       "      <td>17.500000</td>\n",
       "      <td>78.000000</td>\n",
       "      <td>29.000000</td>\n",
       "      <td>37.500000</td>\n",
       "      <td>4.000000</td>\n",
       "      <td>5.0</td>\n",
       "      <td>72.000000</td>\n",
       "      <td>1.000000</td>\n",
       "    </tr>\n",
       "  </tbody>\n",
       "</table>\n",
       "</div>"
      ],
      "text/plain": [
       "            Deal_id  Secret_dwarf_info_1  Secret_dwarf_info_2  \\\n",
       "count  3.168000e+03           535.000000           535.000000   \n",
       "mean   4.605727e+07             3.935514            -2.299065   \n",
       "std    5.370953e+07             0.888467             0.734579   \n",
       "min    5.856790e+05             2.500000            -3.000000   \n",
       "25%    2.761608e+07             3.500000            -3.000000   \n",
       "50%    4.349426e+07             3.500000            -2.000000   \n",
       "75%    5.778544e+07             4.500000            -2.000000   \n",
       "max    6.927701e+08             9.500000             2.000000   \n",
       "\n",
       "       Secret_dwarf_info_3  Successful_deals_count       Tavern  \\\n",
       "count           535.000000             3154.000000  3168.000000   \n",
       "mean              5.267290                1.043754    13.350694   \n",
       "std               0.498645                1.649416     8.851891   \n",
       "min               5.000000                0.000000     2.000000   \n",
       "25%               5.000000                0.000000     7.000000   \n",
       "50%               5.000000                0.000000     8.000000   \n",
       "75%               5.000000                2.000000    15.000000   \n",
       "max               8.000000               17.000000    58.000000   \n",
       "\n",
       "       Hashed_deal_detail_1  Hashed_deal_detail_2  Hashed_deal_detail_3  \\\n",
       "count           3168.000000           3168.000000           3168.000000   \n",
       "mean               2.518939             -2.404356              8.462437   \n",
       "std                0.351308              2.474564              3.521127   \n",
       "min                2.500000             -3.000000              5.000000   \n",
       "25%                2.500000             -3.000000              6.000000   \n",
       "50%                2.500000             -3.000000              8.000000   \n",
       "75%                2.500000             -3.000000             10.000000   \n",
       "max               17.500000             78.000000             29.000000   \n",
       "\n",
       "       Hashed_deal_detail_4  Hashed_deal_detail_5  Hashed_deal_detail_6  \\\n",
       "count           3168.000000           3168.000000                3168.0   \n",
       "mean               3.193813             -2.981692                   5.0   \n",
       "std                2.048743              0.245540                   0.0   \n",
       "min                2.500000             -3.000000                   5.0   \n",
       "25%                2.500000             -3.000000                   5.0   \n",
       "50%                2.500000             -3.000000                   5.0   \n",
       "75%                2.500000             -3.000000                   5.0   \n",
       "max               37.500000              4.000000                   5.0   \n",
       "\n",
       "               Age      Default  \n",
       "count  3168.000000  3168.000000  \n",
       "mean     36.411616     0.110795  \n",
       "std      10.821444     0.313928  \n",
       "min      20.000000     0.000000  \n",
       "25%      28.000000     0.000000  \n",
       "50%      34.000000     0.000000  \n",
       "75%      43.000000     0.000000  \n",
       "max      72.000000     1.000000  "
      ]
     },
     "execution_count": 4,
     "metadata": {},
     "output_type": "execute_result"
    }
   ],
   "source": [
    "data.describe()"
   ]
  },
  {
   "cell_type": "code",
   "execution_count": 5,
   "id": "225faace",
   "metadata": {},
   "outputs": [
    {
     "data": {
      "text/html": [
       "<div>\n",
       "<style scoped>\n",
       "    .dataframe tbody tr th:only-of-type {\n",
       "        vertical-align: middle;\n",
       "    }\n",
       "\n",
       "    .dataframe tbody tr th {\n",
       "        vertical-align: top;\n",
       "    }\n",
       "\n",
       "    .dataframe thead th {\n",
       "        text-align: right;\n",
       "    }\n",
       "</style>\n",
       "<table border=\"1\" class=\"dataframe\">\n",
       "  <thead>\n",
       "    <tr style=\"text-align: right;\">\n",
       "      <th></th>\n",
       "      <th>Deal_date</th>\n",
       "      <th>First_deal_date</th>\n",
       "      <th>First_default_date</th>\n",
       "      <th>Region</th>\n",
       "      <th>Gender</th>\n",
       "    </tr>\n",
       "  </thead>\n",
       "  <tbody>\n",
       "    <tr>\n",
       "      <th>count</th>\n",
       "      <td>3168</td>\n",
       "      <td>3168</td>\n",
       "      <td>535</td>\n",
       "      <td>3161</td>\n",
       "      <td>3168</td>\n",
       "    </tr>\n",
       "    <tr>\n",
       "      <th>unique</th>\n",
       "      <td>486</td>\n",
       "      <td>545</td>\n",
       "      <td>68</td>\n",
       "      <td>8</td>\n",
       "      <td>2</td>\n",
       "    </tr>\n",
       "    <tr>\n",
       "      <th>top</th>\n",
       "      <td>2016-09-18</td>\n",
       "      <td>2015-10-10</td>\n",
       "      <td>2016-01-15</td>\n",
       "      <td>Tavern_district_3</td>\n",
       "      <td>Female</td>\n",
       "    </tr>\n",
       "    <tr>\n",
       "      <th>freq</th>\n",
       "      <td>23</td>\n",
       "      <td>21</td>\n",
       "      <td>57</td>\n",
       "      <td>1204</td>\n",
       "      <td>2729</td>\n",
       "    </tr>\n",
       "  </tbody>\n",
       "</table>\n",
       "</div>"
      ],
      "text/plain": [
       "         Deal_date First_deal_date First_default_date             Region  \\\n",
       "count         3168            3168                535               3161   \n",
       "unique         486             545                 68                  8   \n",
       "top     2016-09-18      2015-10-10         2016-01-15  Tavern_district_3   \n",
       "freq            23              21                 57               1204   \n",
       "\n",
       "        Gender  \n",
       "count     3168  \n",
       "unique       2  \n",
       "top     Female  \n",
       "freq      2729  "
      ]
     },
     "execution_count": 5,
     "metadata": {},
     "output_type": "execute_result"
    }
   ],
   "source": [
    "data.describe(include=[object])"
   ]
  },
  {
   "cell_type": "markdown",
   "id": "b0204034",
   "metadata": {},
   "source": [
    "Видим, что есть 4 признака с пропуском данных более 80%. Эти колонки потенциальные кандидаты на удаление. И один из признаков постоянен - его точно поже удалим."
   ]
  },
  {
   "cell_type": "markdown",
   "id": "46214f7a",
   "metadata": {},
   "source": [
    "# Вычисление IV и WoE\n",
    "Подход для оценивания сигналов при задаче бинарной классификации называется Information Value (IV) / Weight of Evidence (WOE). Данный подход оценивает, на сколько весомы каждый из признаков для определения таргета.\n",
    "Весь код был честно позаимствован на просторах сети."
   ]
  },
  {
   "cell_type": "raw",
   "id": "91c012ab",
   "metadata": {},
   "source": [
    "Таблица оценки признаков:\n",
    "\n",
    "Information Value     Predictive Power\n",
    "   < 0.02                Useless for Prediction\n",
    "   0.02 - 0.1            Weak Predictor\n",
    "   0.1 - 0.3             Medium Predictor\n",
    "   0.3 - 0.5             Strong Predictor\n",
    "   > 0.5                 Suspicious or too good to be true"
   ]
  },
  {
   "cell_type": "code",
   "execution_count": 6,
   "id": "d0627040",
   "metadata": {},
   "outputs": [],
   "source": [
    "def calculate_woe_iv(dataset, feature, target):\n",
    "    lst = []\n",
    "    for i in range(dataset[feature].nunique()):\n",
    "        val = list(dataset[feature].unique())[i]\n",
    "        lst.append({\n",
    "            'Value': val,\n",
    "            'All': dataset[dataset[feature] == val].count()[feature],\n",
    "            'Good': dataset[(dataset[feature] == val) & (dataset[target] == 0)].count()[feature],\n",
    "            'Bad': dataset[(dataset[feature] == val) & (dataset[target] == 1)].count()[feature]\n",
    "        })\n",
    "        \n",
    "    dset = pd.DataFrame(lst)\n",
    "    dset['Distr_Good'] = dset['Good'] / dset['Good'].sum()\n",
    "    dset['Distr_Bad'] = dset['Bad'] / dset['Bad'].sum()\n",
    "    dset['WoE'] = np.log(dset['Distr_Good'] / dset['Distr_Bad'])\n",
    "    dset = dset.replace({'WoE': {np.inf: 0, -np.inf: 0}})\n",
    "    dset['IV'] = (dset['Distr_Good'] - dset['Distr_Bad']) * dset['WoE']\n",
    "    iv = dset['IV'].sum()\n",
    "    \n",
    "    dset = dset.sort_values(by='WoE')\n",
    "    \n",
    "    return dset, iv"
   ]
  },
  {
   "cell_type": "code",
   "execution_count": 7,
   "id": "fb006b37",
   "metadata": {},
   "outputs": [
    {
     "name": "stdout",
     "output_type": "stream",
     "text": [
      "WoE and IV for column:\n",
      "Deal_date                0.651\n",
      "First_deal_date          0.568\n",
      "Secret_dwarf_info_1      0.122\n",
      "Secret_dwarf_info_2      0.090\n",
      "Secret_dwarf_info_3      0.046\n",
      "First_default_date       0.378\n",
      "Successful_deals_count   0.125\n",
      "Region                   0.077\n",
      "Tavern                   0.206\n",
      "Hashed_deal_detail_1     0.000\n",
      "Hashed_deal_detail_2     0.031\n",
      "Hashed_deal_detail_3     0.139\n",
      "Hashed_deal_detail_4     0.069\n",
      "Hashed_deal_detail_5     0.015\n",
      "Hashed_deal_detail_6     0.000\n",
      "Age                      0.299\n",
      "Gender                   0.048\n"
     ]
    }
   ],
   "source": [
    "print('WoE and IV for column:')\n",
    "for col in data.columns:\n",
    "    if col == 'Deal_id' or col == 'Default':\n",
    "        continue\n",
    "    else:\n",
    "        print('{0:25}'.format(col), end='')\n",
    "        d_f, iv = calculate_woe_iv(data, col, 'Default')\n",
    "        print('{:.3f}'.format(iv))"
   ]
  },
  {
   "cell_type": "markdown",
   "id": "8771a618",
   "metadata": {},
   "source": [
    "# Подготавливаем данные"
   ]
  },
  {
   "cell_type": "code",
   "execution_count": 8,
   "id": "56475a47",
   "metadata": {},
   "outputs": [],
   "source": [
    "from datetime import datetime as dt\n",
    "\n",
    "data['Deal_date'] = data['Deal_date'].astype('datetime64')\n",
    "data['First_deal_date'] = data['First_deal_date'].astype('datetime64')\n",
    "data['First_default_date'] = data['First_default_date'].astype('datetime64')"
   ]
  },
  {
   "cell_type": "markdown",
   "id": "329921c6",
   "metadata": {},
   "source": [
    "Сделаем новые признаки из колонок с датами: год, месяц, день:"
   ]
  },
  {
   "cell_type": "code",
   "execution_count": 9,
   "id": "81de7590",
   "metadata": {},
   "outputs": [],
   "source": [
    "data['Deal_date_year'] = data['Deal_date'].dt.year\n",
    "data['Deal_date_month'] = data['Deal_date'].dt.month\n",
    "data['Deal_date_day'] = data['Deal_date'].dt.day\n",
    "\n",
    "data['First_deal_date_year'] = data['First_deal_date'].dt.year\n",
    "data['First_deal_date_month'] = data['First_deal_date'].dt.month\n",
    "data['First_deal_date_day'] = data['First_deal_date'].dt.day\n",
    "\n",
    "data['First_default_date_year'] = data['First_default_date'].dt.year\n",
    "data['First_default_date_month'] = data['First_default_date'].dt.month\n",
    "data['First_default_date_day'] = data['First_default_date'].dt.day"
   ]
  },
  {
   "cell_type": "markdown",
   "id": "3e3c4a9b",
   "metadata": {},
   "source": [
    "Сделаем ещё признаки на основе разницы дат:"
   ]
  },
  {
   "cell_type": "code",
   "execution_count": 10,
   "id": "596d4dc6",
   "metadata": {},
   "outputs": [],
   "source": [
    "data['Days_1'] = data['Deal_date'] - data['First_deal_date']\n",
    "data['Days_2'] = data['First_default_date'] - data['First_deal_date']"
   ]
  },
  {
   "cell_type": "markdown",
   "id": "8d928b62",
   "metadata": {},
   "source": [
    "Заполним пропущенные даты такой датой, чтобы при переводе данных в timestamps получился 0:"
   ]
  },
  {
   "cell_type": "code",
   "execution_count": 11,
   "id": "cbaf182b",
   "metadata": {},
   "outputs": [],
   "source": [
    "data['First_default_date'] = data['First_default_date'].fillna(dt(1970, 1, 1))"
   ]
  },
  {
   "cell_type": "markdown",
   "id": "a3ccb8fb",
   "metadata": {},
   "source": [
    "Переведём все даты в timestamps и преобразуем их из секунд в дни (чтобы числа были не такими большими):"
   ]
  },
  {
   "cell_type": "code",
   "execution_count": 12,
   "id": "5b60046a",
   "metadata": {},
   "outputs": [],
   "source": [
    "data['Deal_date'] = data['Deal_date'].astype(np.int64) // 10 ** 9 // (60 * 60 * 24)\n",
    "data['First_deal_date'] = data['First_deal_date'].astype(np.int64) // 10 ** 9 // (60 * 60 * 24)\n",
    "data['First_default_date'] = data['First_default_date'].astype(np.int64) // 10 ** 9 // (60 * 60 * 24)"
   ]
  },
  {
   "cell_type": "markdown",
   "id": "b709b396",
   "metadata": {},
   "source": [
    "Заполним пропуски в разнице в днях нулями:"
   ]
  },
  {
   "cell_type": "code",
   "execution_count": 13,
   "id": "df7669f1",
   "metadata": {},
   "outputs": [],
   "source": [
    "from datetime import timedelta as td\n",
    "\n",
    "data['Days_2'] = data['Days_2'].fillna(td(days=0))"
   ]
  },
  {
   "cell_type": "markdown",
   "id": "632c1c60",
   "metadata": {},
   "source": [
    "Преобразуем timedelta в целое число и переведём из секунд в дни:"
   ]
  },
  {
   "cell_type": "code",
   "execution_count": 14,
   "id": "bc518eac",
   "metadata": {},
   "outputs": [],
   "source": [
    "data['Days_1'] = data['Days_1'].astype(np.int64) // 10 ** 9 // (60 * 60 * 24)\n",
    "data['Days_2'] = data['Days_2'].astype(np.int64) // 10 ** 9 // (60 * 60 * 24)"
   ]
  },
  {
   "cell_type": "markdown",
   "id": "03e9cbe9",
   "metadata": {},
   "source": [
    "Так как пропусков в колонке Region мало, заполним их новой таргетной переменной:"
   ]
  },
  {
   "cell_type": "code",
   "execution_count": 15,
   "id": "1279622d",
   "metadata": {},
   "outputs": [],
   "source": [
    "data['Region'] = data['Region'].fillna('Tavern_district_8')"
   ]
  },
  {
   "cell_type": "markdown",
   "id": "c9e80e07",
   "metadata": {},
   "source": [
    "Все оставшиеся пропуски в таблице заполним нулями:"
   ]
  },
  {
   "cell_type": "code",
   "execution_count": 16,
   "id": "1a7789a3",
   "metadata": {},
   "outputs": [],
   "source": [
    "data = data.fillna(0)"
   ]
  },
  {
   "cell_type": "markdown",
   "id": "81d1d427",
   "metadata": {},
   "source": [
    "Сделаем ещё несколко признаков.\n",
    "Почему они сделаны таким образом - я их таким образом придумал, почему бы и нет, в этом нет ни какого смысла, просто новые признаки:"
   ]
  },
  {
   "cell_type": "code",
   "execution_count": 17,
   "id": "9e0193b1",
   "metadata": {},
   "outputs": [],
   "source": [
    "data['dwarf_Age'] = (data['Secret_dwarf_info_1'] + data['Secret_dwarf_info_2'] + data['Secret_dwarf_info_3']) * data['Age']\n",
    "\n",
    "data['dwarf_Tavern'] = (data['Secret_dwarf_info_1'] + data['Secret_dwarf_info_2'] + data['Secret_dwarf_info_3']) * data['Tavern']\n",
    "\n",
    "data['dwarf_deals'] = (data['Secret_dwarf_info_1'] + data['Secret_dwarf_info_2'] + data['Secret_dwarf_info_3']) * data['Successful_deals_count']\n",
    "\n",
    "data['Tavern_Age'] = data['Tavern'] * data['Age']"
   ]
  },
  {
   "cell_type": "markdown",
   "id": "9a34d36b",
   "metadata": {},
   "source": [
    "Удаляем данные, которые не нужны по моему мнению:"
   ]
  },
  {
   "cell_type": "code",
   "execution_count": 18,
   "id": "dcf7b898",
   "metadata": {},
   "outputs": [],
   "source": [
    "data = data.drop(\n",
    "    [\n",
    "        'Deal_id',\n",
    "        'Secret_dwarf_info_1',\n",
    "        'Secret_dwarf_info_2',\n",
    "        'Secret_dwarf_info_3',\n",
    "        'First_default_date',\n",
    "        'Hashed_deal_detail_6'\n",
    "    ],\n",
    "    axis=1\n",
    ")"
   ]
  },
  {
   "cell_type": "markdown",
   "id": "dc2c6304",
   "metadata": {},
   "source": [
    "Посмотрим корреляцию оставшихся признаков между собой и с таргетом:"
   ]
  },
  {
   "cell_type": "code",
   "execution_count": 19,
   "id": "9f97b202",
   "metadata": {},
   "outputs": [
    {
     "data": {
      "image/png": "[encoded data removed]",
      "text/plain": [
       "<Figure size 1152x720 with 2 Axes>"
      ]
     },
     "metadata": {
      "needs_background": "light"
     },
     "output_type": "display_data"
    }
   ],
   "source": [
    "import seaborn as sns\n",
    "from matplotlib import pyplot as plt\n",
    "\n",
    "plt.figure().set_size_inches(16, 10)\n",
    "\n",
    "sns.heatmap(data.corr(), annot=True, vmin=-1, vmax=1)\n",
    "plt.show()"
   ]
  },
  {
   "cell_type": "markdown",
   "id": "f9623386",
   "metadata": {},
   "source": [
    "Интересно, что есть некоторая корреляция созданных мною признаков между собой. Но с таргетом коррелируем только один изначальный."
   ]
  },
  {
   "cell_type": "markdown",
   "id": "e02d282e",
   "metadata": {},
   "source": [
    "# Посчитаем заново IV и WoE"
   ]
  },
  {
   "cell_type": "code",
   "execution_count": 20,
   "id": "89007880",
   "metadata": {},
   "outputs": [
    {
     "name": "stdout",
     "output_type": "stream",
     "text": [
      "WoE and IV for column:\n",
      "Deal_date                0.651\n",
      "First_deal_date          0.568\n",
      "Successful_deals_count   0.126\n",
      "Region                   0.081\n",
      "Tavern                   0.206\n",
      "Hashed_deal_detail_1     0.000\n",
      "Hashed_deal_detail_2     0.031\n",
      "Hashed_deal_detail_3     0.139\n",
      "Hashed_deal_detail_4     0.069\n",
      "Hashed_deal_detail_5     0.015\n",
      "Age                      0.299\n",
      "Gender                   0.048\n",
      "Deal_date_year           0.085\n",
      "Deal_date_month          0.120\n",
      "Deal_date_day            0.101\n",
      "First_deal_date_year     0.000\n",
      "First_deal_date_month    0.055\n",
      "First_deal_date_day      0.130\n",
      "First_default_date_year  0.202\n",
      "First_default_date_month 0.245\n",
      "First_default_date_day   0.236\n",
      "Days_1                   0.546\n",
      "Days_2                   0.345\n",
      "dwarf_Age                0.445\n",
      "dwarf_Tavern             0.311\n",
      "dwarf_deals              0.108\n",
      "Tavern_Age               0.532\n"
     ]
    }
   ],
   "source": [
    "print('WoE and IV for column:')\n",
    "for col in data.columns:\n",
    "    if col == 'Deal_id' or col == 'Default':\n",
    "        continue\n",
    "    else:\n",
    "        print('{0:25}'.format(col), end='')\n",
    "        d_f, iv = calculate_woe_iv(data, col, 'Default')\n",
    "        print('{:.3f}'.format(iv))"
   ]
  },
  {
   "cell_type": "markdown",
   "id": "3174b881",
   "metadata": {},
   "source": [
    "Вроде бы все признаки не бесполезны, кроме двух Hashed_deal_detail_1 и First_deal_date_year.\n",
    "Я принял решение для обучения моделей оставить все признаки."
   ]
  },
  {
   "cell_type": "markdown",
   "id": "a73daf74",
   "metadata": {},
   "source": [
    "# Подготовка к обучению"
   ]
  },
  {
   "cell_type": "code",
   "execution_count": 21,
   "id": "9c569036",
   "metadata": {},
   "outputs": [],
   "source": [
    "X = data.drop(['Default'], axis=1)\n",
    "Y = data['Default']"
   ]
  },
  {
   "cell_type": "markdown",
   "id": "b230185e",
   "metadata": {},
   "source": [
    "Выделяем числовые и категориальные признаки, а последние делим на две группы, которые будут кодировать признак разными способами: One-Hot (когда количество категорий не более 4) и кодирование по таргету (в остальных случаях):"
   ]
  },
  {
   "cell_type": "code",
   "execution_count": 22,
   "id": "18a7e829",
   "metadata": {},
   "outputs": [],
   "source": [
    "numeric_columns = list(X.select_dtypes(exclude='object').columns)\n",
    "categorical_columns = list(X.select_dtypes(include='object').columns)\n",
    "\n",
    "columns_ohe = [x for x in categorical_columns if X[x].nunique() < 5]\n",
    "columns_mte = [x for x in categorical_columns if X[x].nunique() >= 5]\n",
    "\n",
    "numeric_columns_ind = [list(X.columns).index(col) for col in numeric_columns]\n",
    "columns_ohe_ind = [list(X.columns).index(col) for col in columns_ohe]\n",
    "columns_mte_ind = [list(X.columns).index(col) for col in columns_mte]"
   ]
  },
  {
   "cell_type": "markdown",
   "id": "6e97afbb",
   "metadata": {},
   "source": [
    "Создаём трансформер, который будет обрабатывать наши колонки:"
   ]
  },
  {
   "cell_type": "code",
   "execution_count": 23,
   "id": "f6d01d72",
   "metadata": {},
   "outputs": [],
   "source": [
    "from category_encoders import TargetEncoder\n",
    "from sklearn.compose import ColumnTransformer\n",
    "from sklearn.preprocessing import StandardScaler\n",
    "from category_encoders.one_hot import OneHotEncoder\n",
    "\n",
    "transformer = [\n",
    "    ('StandardScaler', StandardScaler(), numeric_columns_ind),\n",
    "    ('OneHotEncoder', OneHotEncoder(), columns_ohe_ind),\n",
    "    ('MeanTargetEncoder', TargetEncoder(), columns_mte_ind)\n",
    "]\n",
    "\n",
    "columns_transformer = ColumnTransformer(transformers=transformer)"
   ]
  },
  {
   "cell_type": "markdown",
   "id": "2c297003",
   "metadata": {},
   "source": [
    "Делим данные на тренировочные и тестовые, учитывая что у нас есть большой дисбаланс классов, деление производим учитывая это.\n",
    "\n",
    "Так же создадим делитель нашей тренировочной выборки на фолды для обучение на кроссвалидации. StratifiedKFold выбран по ричине дисбаланса классов, он как раз призван делить на фолды с учётом имеющегося дисбаланса."
   ]
  },
  {
   "cell_type": "code",
   "execution_count": 24,
   "id": "bf675b3d",
   "metadata": {},
   "outputs": [],
   "source": [
    "from sklearn.model_selection import StratifiedKFold\n",
    "from sklearn.model_selection import train_test_split\n",
    "\n",
    "X_train, X_test, Y_train, Y_test = train_test_split(\n",
    "    X,\n",
    "    Y,\n",
    "    test_size=0.125,\n",
    "    #random_state=9,\n",
    "    stratify=Y\n",
    ")\n",
    "\n",
    "splitter = StratifiedKFold(n_splits=7, shuffle=True, random_state=1)"
   ]
  },
  {
   "cell_type": "markdown",
   "id": "d6a50d0e",
   "metadata": {},
   "source": [
    "# Тренеруем 8 моделей\n",
    "Тренеруем модели с подбором параметров в каждой из них. При обучении и подборе параметров в качестве оптимизируемого (максимизируемого) параметра используем roc_auc. Проверку качества обучения и подбора параметров модели осуществляем на части выше отобранных данных."
   ]
  },
  {
   "cell_type": "markdown",
   "id": "4d291884",
   "metadata": {},
   "source": [
    "### 1. Тренеруем LogisticRegression"
   ]
  },
  {
   "cell_type": "code",
   "execution_count": 25,
   "id": "61fced9d",
   "metadata": {},
   "outputs": [
    {
     "name": "stdout",
     "output_type": "stream",
     "text": [
      "Лучшие параметры {'model__C': 10, 'model__penalty': 'l2'}\n",
      "\n",
      "Качество на тренировочной выборке составило 0.8892496392496393\n",
      "Качество на тестовой выборке составило 0.8888888888888888\n",
      "\n",
      "ROC-AUC тренировочной выборки 0.7535662136358532\n",
      "ROC-AUC тестовой выборки 0.8013946280991735\n",
      "CPU times: total: 1.23 s\n",
      "Wall time: 5.8 s\n"
     ]
    }
   ],
   "source": [
    "%%time\n",
    "\n",
    "from sklearn.metrics import roc_auc_score\n",
    "from sklearn.metrics import accuracy_score\n",
    "\n",
    "from sklearn.pipeline import Pipeline\n",
    "from sklearn.model_selection import GridSearchCV\n",
    "\n",
    "from sklearn.linear_model import LogisticRegression\n",
    "\n",
    "model_1 = Pipeline([('columns_transformer', columns_transformer),\n",
    "                    ('model', LogisticRegression(class_weight={0: 313/352, 1: 39/352},\n",
    "                                                 random_state=9))])\n",
    "\n",
    "param_grid_1 ={\n",
    "    'model__penalty': ['l1', 'l2', 'elasticnet', None],\n",
    "    'model__C': [0.001, 0.01, 0.1, 1, 2, 3, 4, 5, 6, 7, 8, 9, 10]\n",
    "}\n",
    "\n",
    "search_1 = GridSearchCV(\n",
    "    model_1,\n",
    "    param_grid_1,\n",
    "    cv=splitter,\n",
    "    scoring='roc_auc',\n",
    "    n_jobs=-1\n",
    ")\n",
    "\n",
    "search_1.fit(X_train, Y_train)\n",
    "\n",
    "print(f\"Лучшие параметры {search_1.best_params_}\")\n",
    "print()\n",
    "\n",
    "train_preds_1 = search_1.predict(X_train)\n",
    "train_accuracy_1 = accuracy_score(Y_train, train_preds_1)\n",
    "\n",
    "test_preds_1 = search_1.predict(X_test)\n",
    "test_accuracy_1 = accuracy_score(Y_test, test_preds_1)\n",
    "\n",
    "print(f\"Качество на тренировочной выборке составило {train_accuracy_1}\")\n",
    "print(f\"Качество на тестовой выборке составило {test_accuracy_1}\")\n",
    "print()\n",
    "print(f\"ROC-AUC тренировочной выборки {roc_auc_score(Y_train, search_1.predict_proba(X_train)[:, 1])}\")\n",
    "print(f\"ROC-AUC тестовой выборки {roc_auc_score(Y_test, search_1.predict_proba(X_test)[:, 1])}\")"
   ]
  },
  {
   "cell_type": "markdown",
   "id": "34cecdf7",
   "metadata": {},
   "source": [
    "### 2. Тренеруем RandomForestClassifier"
   ]
  },
  {
   "cell_type": "code",
   "execution_count": 26,
   "id": "a1f19057",
   "metadata": {
    "scrolled": true
   },
   "outputs": [
    {
     "name": "stdout",
     "output_type": "stream",
     "text": [
      "Лучшие параметры {'model__max_depth': 7, 'model__max_features': 'sqrt', 'model__n_estimators': 500}\n",
      "\n",
      "Качество на тренировочной выборке составило 0.8914141414141414\n",
      "Качество на тестовой выборке составило 0.8888888888888888\n",
      "\n",
      "ROC-AUC тренировочной выборки 0.910593256734346\n",
      "ROC-AUC тестовой выборки 0.8218620867768596\n",
      "CPU times: total: 8.83 s\n",
      "Wall time: 4min 24s\n"
     ]
    }
   ],
   "source": [
    "%%time\n",
    "\n",
    "from sklearn.ensemble import RandomForestClassifier\n",
    "\n",
    "model_2 = Pipeline([('columns_transformer', columns_transformer),\n",
    "                    ('model', RandomForestClassifier(class_weight={0: 313/352, 1: 39/352},\n",
    "                                                     random_state=9,\n",
    "                                                     n_jobs=-1))])\n",
    "\n",
    "param_grid_2 ={\n",
    "    'model__n_estimators': [25, 50, 100, 150, 200, 250, 300, 350, 400, 450, 500],\n",
    "    'model__max_depth': [5, 6, 7, 8, 9, 10, None],\n",
    "    'model__max_features': ['sqrt', 'log2', None]\n",
    "}\n",
    "\n",
    "search_2 = GridSearchCV(\n",
    "    model_2,\n",
    "    param_grid_2,\n",
    "    cv=splitter,\n",
    "    scoring='roc_auc',\n",
    "    n_jobs=-1\n",
    ")\n",
    "\n",
    "search_2.fit(X_train, Y_train)\n",
    "\n",
    "print(f\"Лучшие параметры {search_2.best_params_}\")\n",
    "print()\n",
    "\n",
    "train_preds_2 = search_2.predict(X_train)\n",
    "train_accuracy_2 = accuracy_score(Y_train, train_preds_2)\n",
    "\n",
    "test_preds_2 = search_2.predict(X_test)\n",
    "test_accuracy_2 = accuracy_score(Y_test, test_preds_2)\n",
    "\n",
    "print(f\"Качество на тренировочной выборке составило {train_accuracy_2}\")\n",
    "print(f\"Качество на тестовой выборке составило {test_accuracy_2}\")\n",
    "print()\n",
    "print(f\"ROC-AUC тренировочной выборки {roc_auc_score(Y_train, search_2.predict_proba(X_train)[:, 1])}\")\n",
    "print(f\"ROC-AUC тестовой выборки {roc_auc_score(Y_test, search_2.predict_proba(X_test)[:, 1])}\")"
   ]
  },
  {
   "cell_type": "markdown",
   "id": "8322512a",
   "metadata": {},
   "source": [
    "### 3. Тренеруем GradientBoostingClassifier"
   ]
  },
  {
   "cell_type": "code",
   "execution_count": 27,
   "id": "d7623514",
   "metadata": {},
   "outputs": [
    {
     "name": "stdout",
     "output_type": "stream",
     "text": [
      "Лучшие параметры {'model__criterion': 'squared_error', 'model__learning_rate': 0.01, 'model__loss': 'log_loss', 'model__max_depth': 5, 'model__max_features': 'log2'}\n",
      "\n",
      "Качество на тренировочной выборке составило 0.8906926406926406\n",
      "Качество на тестовой выборке составило 0.8888888888888888\n",
      "\n",
      "ROC-AUC тренировочной выборки 0.8714346122589213\n",
      "ROC-AUC тестовой выборки 0.8153409090909091\n",
      "CPU times: total: 11.1 s\n",
      "Wall time: 1min 51s\n"
     ]
    }
   ],
   "source": [
    "%%time\n",
    "\n",
    "from sklearn.ensemble import GradientBoostingClassifier\n",
    "\n",
    "model_3 = Pipeline([('columns_transformer', columns_transformer),\n",
    "                    ('model', GradientBoostingClassifier(random_state=9))])\n",
    "\n",
    "param_grid_3 ={\n",
    "    'model__loss': ['log_loss', 'deviance', 'exponential'],\n",
    "    'model__learning_rate': [0.001, 0.01, 0.1, 1],\n",
    "    'model__criterion': ['friedman_mse', 'squared_error', 'mse'],\n",
    "    'model__max_depth': [3, 4, 5],\n",
    "    'model__max_features': ['auto', 'sqrt', 'log2']\n",
    "}\n",
    "\n",
    "search_3 = GridSearchCV(\n",
    "    model_3,\n",
    "    param_grid_3,\n",
    "    cv=splitter,\n",
    "    scoring='roc_auc',\n",
    "    n_jobs=-1\n",
    ")\n",
    "\n",
    "search_3.fit(X_train, Y_train)\n",
    "\n",
    "print(f\"Лучшие параметры {search_3.best_params_}\")\n",
    "print()\n",
    "\n",
    "train_preds_3 = search_3.predict(X_train)\n",
    "train_accuracy_3 = accuracy_score(Y_train, train_preds_3)\n",
    "\n",
    "test_preds_3 = search_3.predict(X_test)\n",
    "test_accuracy_3 = accuracy_score(Y_test, test_preds_3)\n",
    "\n",
    "print(f\"Качество на тренировочной выборке составило {train_accuracy_3}\")\n",
    "print(f\"Качество на тестовой выборке составило {test_accuracy_3}\")\n",
    "print()\n",
    "print(f\"ROC-AUC тренировочной выборки {roc_auc_score(Y_train, search_3.predict_proba(X_train)[:, 1])}\")\n",
    "print(f\"ROC-AUC тестовой выборки {roc_auc_score(Y_test, search_3.predict_proba(X_test)[:, 1])}\")"
   ]
  },
  {
   "cell_type": "markdown",
   "id": "fce5e2e7",
   "metadata": {},
   "source": [
    "### 4. Тренеруем KNeighborsClassifier"
   ]
  },
  {
   "cell_type": "code",
   "execution_count": 28,
   "id": "db3c7611",
   "metadata": {},
   "outputs": [
    {
     "name": "stdout",
     "output_type": "stream",
     "text": [
      "Лучшие параметры {'model__n_neighbors': 60, 'model__p': 1, 'model__weights': 'distance'}\n",
      "\n",
      "Качество на тренировочной выборке составило 1.0\n",
      "Качество на тестовой выборке составило 0.8914141414141414\n",
      "\n",
      "ROC-AUC тренировочной выборки 1.0\n",
      "ROC-AUC тестовой выборки 0.7704028925619835\n",
      "CPU times: total: 12 s\n",
      "Wall time: 23.2 s\n"
     ]
    }
   ],
   "source": [
    "%%time\n",
    "\n",
    "from sklearn.neighbors import KNeighborsClassifier\n",
    "\n",
    "def gaussian_kernel_001(distances, h=0.01):\n",
    "        return np.exp(- distances**2 / h**2)\n",
    "\n",
    "def gaussian_kernel_01(distances, h=0.1):\n",
    "        return np.exp(- distances**2 / h**2)\n",
    "\n",
    "def gaussian_kernel_05(distances, h=0.5):\n",
    "        return np.exp(- distances**2 / h**2)\n",
    "\n",
    "def gaussian_kernel_1(distances, h=1):\n",
    "        return np.exp(- distances**2 / h**2)\n",
    "\n",
    "def gaussian_kernel_2(distances, h=2):\n",
    "        return np.exp(- distances**2 / h**2)\n",
    "\n",
    "def gaussian_kernel_3(distances, h=3):\n",
    "        return np.exp(- distances**2 / h**2)\n",
    "\n",
    "model_4 = Pipeline([('columns_transformer', columns_transformer),\n",
    "                    ('model', KNeighborsClassifier(n_jobs=-1))])\n",
    "\n",
    "param_grid_4 ={\n",
    "    'model__n_neighbors': [i for i in range(5, 105, 5)],\n",
    "    'model__weights': ['uniform',\n",
    "                       'distance',\n",
    "                       gaussian_kernel_001,\n",
    "                       gaussian_kernel_01,\n",
    "                       gaussian_kernel_05,\n",
    "                       gaussian_kernel_1,\n",
    "                       gaussian_kernel_2,\n",
    "                       gaussian_kernel_3],\n",
    "    'model__p': [2, 1]\n",
    "}\n",
    "\n",
    "search_4 = GridSearchCV(\n",
    "    model_4,\n",
    "    param_grid_4,\n",
    "    cv=splitter,\n",
    "    scoring='roc_auc',\n",
    "    n_jobs=-1\n",
    ")\n",
    "\n",
    "search_4.fit(X_train, Y_train)\n",
    "\n",
    "print(f\"Лучшие параметры {search_4.best_params_}\")\n",
    "print()\n",
    "\n",
    "train_preds_4 = search_4.predict(X_train)\n",
    "train_accuracy_4 = accuracy_score(Y_train, train_preds_4)\n",
    "\n",
    "test_preds_4 = search_4.predict(X_test)\n",
    "test_accuracy_4 = accuracy_score(Y_test, test_preds_4)\n",
    "\n",
    "print(f\"Качество на тренировочной выборке составило {train_accuracy_4}\")\n",
    "print(f\"Качество на тестовой выборке составило {test_accuracy_4}\")\n",
    "print()\n",
    "print(f\"ROC-AUC тренировочной выборки {roc_auc_score(Y_train, search_4.predict_proba(X_train)[:, 1])}\")\n",
    "print(f\"ROC-AUC тестовой выборки {roc_auc_score(Y_test, search_4.predict_proba(X_test)[:, 1])}\")"
   ]
  },
  {
   "cell_type": "markdown",
   "id": "05936089",
   "metadata": {},
   "source": [
    "### 5. Тренеруем svm.SVC"
   ]
  },
  {
   "cell_type": "code",
   "execution_count": 29,
   "id": "a07f93dd",
   "metadata": {},
   "outputs": [
    {
     "name": "stdout",
     "output_type": "stream",
     "text": [
      "Лучшие параметры {'model__C': 2, 'model__kernel': 'rbf'}\n",
      "\n",
      "Качество на тренировочной выборке составило 0.8892496392496393\n",
      "Качество на тестовой выборке составило 0.8888888888888888\n",
      "\n",
      "ROC-AUC тренировочной выборки 0.9173563438629411\n",
      "ROC-AUC тестовой выборки 0.6251936983471074\n",
      "CPU times: total: 3.92 s\n",
      "Wall time: 37.9 s\n"
     ]
    }
   ],
   "source": [
    "%%time\n",
    "\n",
    "from sklearn.svm import SVC\n",
    "\n",
    "model_5 = Pipeline([('columns_transformer', columns_transformer),\n",
    "                    ('model', SVC(probability=True,\n",
    "                                  class_weight={0: 313/352, 1: 39/352},\n",
    "                                  random_state=9))])\n",
    "param_grid_5 ={\n",
    "    'model__C': [i for i in range(1, 11)],\n",
    "    'model__kernel': ['linear', 'poly', 'rbf', 'sigmoid']\n",
    "}\n",
    "\n",
    "search_5 = GridSearchCV(\n",
    "    model_5,\n",
    "    param_grid_5,\n",
    "    cv=splitter,\n",
    "    scoring='roc_auc',\n",
    "    n_jobs=-1\n",
    ")\n",
    "\n",
    "search_5.fit(X_train, Y_train)\n",
    "\n",
    "print(f\"Лучшие параметры {search_5.best_params_}\")\n",
    "print()\n",
    "\n",
    "train_preds_5 = search_5.predict(X_train)\n",
    "train_accuracy_5 = accuracy_score(Y_train, train_preds_5)\n",
    "\n",
    "test_preds_5 = search_5.predict(X_test)\n",
    "test_accuracy_5 = accuracy_score(Y_test, test_preds_5)\n",
    "\n",
    "print(f\"Качество на тренировочной выборке составило {train_accuracy_5}\")\n",
    "print(f\"Качество на тестовой выборке составило {test_accuracy_5}\")\n",
    "print()\n",
    "print(f\"ROC-AUC тренировочной выборки {roc_auc_score(Y_train, search_5.predict_proba(X_train)[:, 1])}\")\n",
    "print(f\"ROC-AUC тестовой выборки {roc_auc_score(Y_test, search_5.predict_proba(X_test)[:, 1])}\")"
   ]
  },
  {
   "cell_type": "markdown",
   "id": "2984ab72",
   "metadata": {},
   "source": [
    "### 6. Тренеруем CatBoostClassifier"
   ]
  },
  {
   "cell_type": "code",
   "execution_count": 30,
   "id": "cd396e58",
   "metadata": {
    "scrolled": true
   },
   "outputs": [
    {
     "name": "stdout",
     "output_type": "stream",
     "text": [
      "Learning rate set to 0.5\n",
      "0:\tlearn: 0.4632692\ttotal: 150ms\tremaining: 1.35s\n",
      "1:\tlearn: 0.3801051\ttotal: 153ms\tremaining: 612ms\n",
      "2:\tlearn: 0.3419995\ttotal: 156ms\tremaining: 364ms\n",
      "3:\tlearn: 0.3242180\ttotal: 158ms\tremaining: 238ms\n",
      "4:\tlearn: 0.3136266\ttotal: 161ms\tremaining: 161ms\n",
      "5:\tlearn: 0.3057528\ttotal: 164ms\tremaining: 109ms\n",
      "6:\tlearn: 0.2959436\ttotal: 167ms\tremaining: 71.6ms\n",
      "7:\tlearn: 0.2918943\ttotal: 170ms\tremaining: 42.5ms\n",
      "8:\tlearn: 0.2870325\ttotal: 173ms\tremaining: 19.2ms\n",
      "9:\tlearn: 0.2827195\ttotal: 176ms\tremaining: 0us\n",
      "Лучшие параметры {'model__iterations': 10}\n",
      "\n",
      "Качество на тренировочной выборке составило 0.8921356421356421\n",
      "Качество на тестовой выборке составило 0.8838383838383839\n",
      "\n",
      "ROC-AUC тренировочной выборки 0.8090967354031358\n",
      "ROC-AUC тестовой выборки 0.8351949896694215\n",
      "CPU times: total: 656 ms\n",
      "Wall time: 52 s\n"
     ]
    }
   ],
   "source": [
    "%%time\n",
    "\n",
    "from catboost import CatBoostClassifier\n",
    "\n",
    "model_6 = Pipeline([('columns_transformer', columns_transformer),\n",
    "                    ('model', CatBoostClassifier(loss_function='MultiClass',\n",
    "                                                 thread_count=100,\n",
    "                                                 early_stopping_rounds=10,\n",
    "                                                 random_state=9))])\n",
    "\n",
    "param_grid_6 ={\n",
    "    'model__iterations': [10, 100, 500, 1000, 1500, 2000]\n",
    "}\n",
    "\n",
    "search_6 = GridSearchCV(\n",
    "    model_6,\n",
    "    param_grid_6,\n",
    "    cv=splitter,\n",
    "    scoring='roc_auc',\n",
    "    n_jobs=-1\n",
    ")\n",
    "\n",
    "search_6.fit(X_train, Y_train)\n",
    "\n",
    "print(f\"Лучшие параметры {search_6.best_params_}\")\n",
    "print()\n",
    "\n",
    "train_preds_6 = search_6.predict(X_train)\n",
    "train_accuracy_6 = accuracy_score(Y_train, train_preds_6)\n",
    "\n",
    "test_preds_6 = search_6.predict(X_test)\n",
    "test_accuracy_6 = accuracy_score(Y_test, test_preds_6)\n",
    "\n",
    "print(f\"Качество на тренировочной выборке составило {train_accuracy_6}\")\n",
    "print(f\"Качество на тестовой выборке составило {test_accuracy_6}\")\n",
    "print()\n",
    "print(f\"ROC-AUC тренировочной выборки {roc_auc_score(Y_train, search_6.predict_proba(X_train)[:, 1])}\")\n",
    "print(f\"ROC-AUC тестовой выборки {roc_auc_score(Y_test, search_6.predict_proba(X_test)[:, 1])}\")"
   ]
  },
  {
   "cell_type": "markdown",
   "id": "16125b7c",
   "metadata": {},
   "source": [
    "### 7. Тренируем LGBMClassifier"
   ]
  },
  {
   "cell_type": "code",
   "execution_count": 31,
   "id": "433bd800",
   "metadata": {},
   "outputs": [
    {
     "name": "stdout",
     "output_type": "stream",
     "text": [
      "Лучшие параметры {'model__learning_rate': 0.1, 'model__max_depth': 1, 'model__n_estimators': 200}\n",
      "\n",
      "Качество на тренировочной выборке составило 0.8914141414141414\n",
      "Качество на тестовой выборке составило 0.8914141414141414\n",
      "\n",
      "ROC-AUC тренировочной выборки 0.8030088998420889\n",
      "ROC-AUC тестовой выборки 0.7979403409090909\n",
      "CPU times: total: 8.03 s\n",
      "Wall time: 29.6 s\n"
     ]
    }
   ],
   "source": [
    "%%time\n",
    "\n",
    "from lightgbm import LGBMClassifier\n",
    "\n",
    "model_7 = Pipeline([('columns_transformer', columns_transformer),\n",
    "                    ('model', LGBMClassifier())])\n",
    "\n",
    "param_grid_7 ={\n",
    "    'model__n_estimators': [i for i in range(50, 350, 50)],\n",
    "    'model__max_depth': [i for i in range(1, 11)],\n",
    "    'model__learning_rate': [0.1, 0.01, 0.001]\n",
    "}\n",
    "\n",
    "search_7 = GridSearchCV(\n",
    "    model_7,\n",
    "    param_grid_7,\n",
    "    cv=splitter,\n",
    "    scoring='roc_auc',\n",
    "    n_jobs=-1\n",
    ")\n",
    "\n",
    "search_7.fit(X_train, Y_train)\n",
    "\n",
    "print(f\"Лучшие параметры {search_7.best_params_}\")\n",
    "print()\n",
    "\n",
    "train_preds_7 = search_7.predict(X_train)\n",
    "train_accuracy_7 = accuracy_score(Y_train, train_preds_7)\n",
    "\n",
    "test_preds_7 = search_7.predict(X_test)\n",
    "test_accuracy_7 = accuracy_score(Y_test, test_preds_7)\n",
    "\n",
    "print(f\"Качество на тренировочной выборке составило {train_accuracy_7}\")\n",
    "print(f\"Качество на тестовой выборке составило {test_accuracy_7}\")\n",
    "print()\n",
    "print(f\"ROC-AUC тренировочной выборки {roc_auc_score(Y_train, search_7.predict_proba(X_train)[:, 1])}\")\n",
    "print(f\"ROC-AUC тестовой выборки {roc_auc_score(Y_test, search_7.predict_proba(X_test)[:, 1])}\")"
   ]
  },
  {
   "cell_type": "markdown",
   "id": "7d206621",
   "metadata": {},
   "source": [
    "### 8. Тренируем XGBClassifier"
   ]
  },
  {
   "cell_type": "code",
   "execution_count": 32,
   "id": "003f1331",
   "metadata": {},
   "outputs": [
    {
     "name": "stdout",
     "output_type": "stream",
     "text": [
      "Лучшие параметры {'model__booster': 'gbtree', 'model__learning_rate': 0.1, 'model__max_depth': 1}\n",
      "\n",
      "Качество на тренировочной выборке составило 0.8892496392496393\n",
      "Качество на тестовой выборке составило 0.8888888888888888\n",
      "\n",
      "ROC-AUC тренировочной выборки 0.7838084981268707\n",
      "ROC-AUC тестовой выборки 0.8091102789256198\n",
      "CPU times: total: 4.66 s\n",
      "Wall time: 18 s\n",
      "Parser   : 172 ms\n"
     ]
    }
   ],
   "source": [
    "%%time\n",
    "\n",
    "from xgboost import XGBClassifier\n",
    "\n",
    "model_8 = Pipeline([('columns_transformer', columns_transformer),\n",
    "                    ('model', XGBClassifier(seed=9, eval_metric='auc'))])\n",
    "\n",
    "param_grid_8 ={\n",
    "    'model__booster': ['gbtree', 'gblinear'],\n",
    "    'model__learning_rate': [1, 0.1, 0.01, 0.001],\n",
    "    'model__max_depth': [i for i in range(1, 11)]\n",
    "}\n",
    "\n",
    "search_8 = GridSearchCV(\n",
    "    model_8,\n",
    "    param_grid_8,\n",
    "    cv=splitter,\n",
    "    scoring='roc_auc',\n",
    "    n_jobs=-1\n",
    ")\n",
    "\n",
    "search_8.fit(X_train, Y_train)\n",
    "\n",
    "print(f\"Лучшие параметры {search_8.best_params_}\")\n",
    "print()\n",
    "\n",
    "train_preds_8 = search_8.predict(X_train)\n",
    "train_accuracy_8 = accuracy_score(Y_train, train_preds_8)\n",
    "\n",
    "test_preds_8 = search_8.predict(X_test)\n",
    "test_accuracy_8 = accuracy_score(Y_test, test_preds_8)\n",
    "\n",
    "print(f\"Качество на тренировочной выборке составило {train_accuracy_8}\")\n",
    "print(f\"Качество на тестовой выборке составило {test_accuracy_8}\")\n",
    "print()\n",
    "print(f\"ROC-AUC тренировочной выборки {roc_auc_score(Y_train, search_8.predict_proba(X_train)[:, 1])}\")\n",
    "print(f\"ROC-AUC тестовой выборки {roc_auc_score(Y_test, search_8.predict_proba(X_test)[:, 1])}\")"
   ]
  },
  {
   "cell_type": "markdown",
   "id": "a387f131",
   "metadata": {},
   "source": [
    "# Данные для предсказания"
   ]
  },
  {
   "cell_type": "code",
   "execution_count": 33,
   "id": "c6cee161",
   "metadata": {},
   "outputs": [],
   "source": [
    "pred = pd.read_csv('test.csv')"
   ]
  },
  {
   "cell_type": "markdown",
   "id": "a0712e2e",
   "metadata": {},
   "source": [
    "Посмотрим на описание числовых и категориальных признаков:"
   ]
  },
  {
   "cell_type": "code",
   "execution_count": 34,
   "id": "e4c653ce",
   "metadata": {},
   "outputs": [
    {
     "data": {
      "text/html": [
       "<div>\n",
       "<style scoped>\n",
       "    .dataframe tbody tr th:only-of-type {\n",
       "        vertical-align: middle;\n",
       "    }\n",
       "\n",
       "    .dataframe tbody tr th {\n",
       "        vertical-align: top;\n",
       "    }\n",
       "\n",
       "    .dataframe thead th {\n",
       "        text-align: right;\n",
       "    }\n",
       "</style>\n",
       "<table border=\"1\" class=\"dataframe\">\n",
       "  <thead>\n",
       "    <tr style=\"text-align: right;\">\n",
       "      <th></th>\n",
       "      <th>Deal_id</th>\n",
       "      <th>Secret_dwarf_info_1</th>\n",
       "      <th>Secret_dwarf_info_2</th>\n",
       "      <th>Secret_dwarf_info_3</th>\n",
       "      <th>Successful_deals_count</th>\n",
       "      <th>Tavern</th>\n",
       "      <th>Hashed_deal_detail_1</th>\n",
       "      <th>Hashed_deal_detail_2</th>\n",
       "      <th>Hashed_deal_detail_3</th>\n",
       "      <th>Hashed_deal_detail_4</th>\n",
       "      <th>Hashed_deal_detail_5</th>\n",
       "      <th>Hashed_deal_detail_6</th>\n",
       "      <th>Age</th>\n",
       "    </tr>\n",
       "  </thead>\n",
       "  <tbody>\n",
       "    <tr>\n",
       "      <th>count</th>\n",
       "      <td>9.890000e+02</td>\n",
       "      <td>140.000000</td>\n",
       "      <td>140.000000</td>\n",
       "      <td>140.000000</td>\n",
       "      <td>988.000000</td>\n",
       "      <td>989.000000</td>\n",
       "      <td>989.000000</td>\n",
       "      <td>989.000000</td>\n",
       "      <td>989.000000</td>\n",
       "      <td>989.000000</td>\n",
       "      <td>989.000000</td>\n",
       "      <td>989.0</td>\n",
       "      <td>989.000000</td>\n",
       "    </tr>\n",
       "    <tr>\n",
       "      <th>mean</th>\n",
       "      <td>7.736690e+07</td>\n",
       "      <td>3.978571</td>\n",
       "      <td>-2.142857</td>\n",
       "      <td>5.328571</td>\n",
       "      <td>1.632591</td>\n",
       "      <td>13.298281</td>\n",
       "      <td>2.517189</td>\n",
       "      <td>-2.402427</td>\n",
       "      <td>9.695652</td>\n",
       "      <td>3.464611</td>\n",
       "      <td>-2.976744</td>\n",
       "      <td>5.0</td>\n",
       "      <td>37.040445</td>\n",
       "    </tr>\n",
       "    <tr>\n",
       "      <th>std</th>\n",
       "      <td>6.747813e+07</td>\n",
       "      <td>0.948060</td>\n",
       "      <td>0.861415</td>\n",
       "      <td>0.515136</td>\n",
       "      <td>2.494499</td>\n",
       "      <td>12.702410</td>\n",
       "      <td>0.251931</td>\n",
       "      <td>2.836259</td>\n",
       "      <td>4.492390</td>\n",
       "      <td>2.660964</td>\n",
       "      <td>0.247385</td>\n",
       "      <td>0.0</td>\n",
       "      <td>10.866338</td>\n",
       "    </tr>\n",
       "    <tr>\n",
       "      <th>min</th>\n",
       "      <td>6.958071e+06</td>\n",
       "      <td>3.500000</td>\n",
       "      <td>-3.000000</td>\n",
       "      <td>5.000000</td>\n",
       "      <td>0.000000</td>\n",
       "      <td>7.000000</td>\n",
       "      <td>2.500000</td>\n",
       "      <td>-3.000000</td>\n",
       "      <td>5.000000</td>\n",
       "      <td>2.500000</td>\n",
       "      <td>-3.000000</td>\n",
       "      <td>5.0</td>\n",
       "      <td>20.000000</td>\n",
       "    </tr>\n",
       "    <tr>\n",
       "      <th>25%</th>\n",
       "      <td>7.240788e+07</td>\n",
       "      <td>3.500000</td>\n",
       "      <td>-3.000000</td>\n",
       "      <td>5.000000</td>\n",
       "      <td>0.000000</td>\n",
       "      <td>7.000000</td>\n",
       "      <td>2.500000</td>\n",
       "      <td>-3.000000</td>\n",
       "      <td>6.000000</td>\n",
       "      <td>2.500000</td>\n",
       "      <td>-3.000000</td>\n",
       "      <td>5.0</td>\n",
       "      <td>29.000000</td>\n",
       "    </tr>\n",
       "    <tr>\n",
       "      <th>50%</th>\n",
       "      <td>7.700465e+07</td>\n",
       "      <td>3.500000</td>\n",
       "      <td>-2.000000</td>\n",
       "      <td>5.000000</td>\n",
       "      <td>1.000000</td>\n",
       "      <td>7.000000</td>\n",
       "      <td>2.500000</td>\n",
       "      <td>-3.000000</td>\n",
       "      <td>8.000000</td>\n",
       "      <td>2.500000</td>\n",
       "      <td>-3.000000</td>\n",
       "      <td>5.0</td>\n",
       "      <td>35.000000</td>\n",
       "    </tr>\n",
       "    <tr>\n",
       "      <th>75%</th>\n",
       "      <td>8.238742e+07</td>\n",
       "      <td>4.500000</td>\n",
       "      <td>-2.000000</td>\n",
       "      <td>6.000000</td>\n",
       "      <td>2.000000</td>\n",
       "      <td>13.000000</td>\n",
       "      <td>2.500000</td>\n",
       "      <td>-3.000000</td>\n",
       "      <td>12.000000</td>\n",
       "      <td>2.500000</td>\n",
       "      <td>-3.000000</td>\n",
       "      <td>5.0</td>\n",
       "      <td>43.000000</td>\n",
       "    </tr>\n",
       "    <tr>\n",
       "      <th>max</th>\n",
       "      <td>8.652261e+08</td>\n",
       "      <td>8.500000</td>\n",
       "      <td>2.000000</td>\n",
       "      <td>7.000000</td>\n",
       "      <td>32.000000</td>\n",
       "      <td>81.000000</td>\n",
       "      <td>8.500000</td>\n",
       "      <td>33.000000</td>\n",
       "      <td>38.000000</td>\n",
       "      <td>25.500000</td>\n",
       "      <td>2.000000</td>\n",
       "      <td>5.0</td>\n",
       "      <td>76.000000</td>\n",
       "    </tr>\n",
       "  </tbody>\n",
       "</table>\n",
       "</div>"
      ],
      "text/plain": [
       "            Deal_id  Secret_dwarf_info_1  Secret_dwarf_info_2  \\\n",
       "count  9.890000e+02           140.000000           140.000000   \n",
       "mean   7.736690e+07             3.978571            -2.142857   \n",
       "std    6.747813e+07             0.948060             0.861415   \n",
       "min    6.958071e+06             3.500000            -3.000000   \n",
       "25%    7.240788e+07             3.500000            -3.000000   \n",
       "50%    7.700465e+07             3.500000            -2.000000   \n",
       "75%    8.238742e+07             4.500000            -2.000000   \n",
       "max    8.652261e+08             8.500000             2.000000   \n",
       "\n",
       "       Secret_dwarf_info_3  Successful_deals_count      Tavern  \\\n",
       "count           140.000000              988.000000  989.000000   \n",
       "mean              5.328571                1.632591   13.298281   \n",
       "std               0.515136                2.494499   12.702410   \n",
       "min               5.000000                0.000000    7.000000   \n",
       "25%               5.000000                0.000000    7.000000   \n",
       "50%               5.000000                1.000000    7.000000   \n",
       "75%               6.000000                2.000000   13.000000   \n",
       "max               7.000000               32.000000   81.000000   \n",
       "\n",
       "       Hashed_deal_detail_1  Hashed_deal_detail_2  Hashed_deal_detail_3  \\\n",
       "count            989.000000            989.000000            989.000000   \n",
       "mean               2.517189             -2.402427              9.695652   \n",
       "std                0.251931              2.836259              4.492390   \n",
       "min                2.500000             -3.000000              5.000000   \n",
       "25%                2.500000             -3.000000              6.000000   \n",
       "50%                2.500000             -3.000000              8.000000   \n",
       "75%                2.500000             -3.000000             12.000000   \n",
       "max                8.500000             33.000000             38.000000   \n",
       "\n",
       "       Hashed_deal_detail_4  Hashed_deal_detail_5  Hashed_deal_detail_6  \\\n",
       "count            989.000000            989.000000                 989.0   \n",
       "mean               3.464611             -2.976744                   5.0   \n",
       "std                2.660964              0.247385                   0.0   \n",
       "min                2.500000             -3.000000                   5.0   \n",
       "25%                2.500000             -3.000000                   5.0   \n",
       "50%                2.500000             -3.000000                   5.0   \n",
       "75%                2.500000             -3.000000                   5.0   \n",
       "max               25.500000              2.000000                   5.0   \n",
       "\n",
       "              Age  \n",
       "count  989.000000  \n",
       "mean    37.040445  \n",
       "std     10.866338  \n",
       "min     20.000000  \n",
       "25%     29.000000  \n",
       "50%     35.000000  \n",
       "75%     43.000000  \n",
       "max     76.000000  "
      ]
     },
     "execution_count": 34,
     "metadata": {},
     "output_type": "execute_result"
    }
   ],
   "source": [
    "pred.describe()"
   ]
  },
  {
   "cell_type": "code",
   "execution_count": 35,
   "id": "46a54208",
   "metadata": {},
   "outputs": [
    {
     "data": {
      "text/html": [
       "<div>\n",
       "<style scoped>\n",
       "    .dataframe tbody tr th:only-of-type {\n",
       "        vertical-align: middle;\n",
       "    }\n",
       "\n",
       "    .dataframe tbody tr th {\n",
       "        vertical-align: top;\n",
       "    }\n",
       "\n",
       "    .dataframe thead th {\n",
       "        text-align: right;\n",
       "    }\n",
       "</style>\n",
       "<table border=\"1\" class=\"dataframe\">\n",
       "  <thead>\n",
       "    <tr style=\"text-align: right;\">\n",
       "      <th></th>\n",
       "      <th>Deal_date</th>\n",
       "      <th>First_deal_date</th>\n",
       "      <th>First_default_date</th>\n",
       "      <th>Region</th>\n",
       "      <th>Gender</th>\n",
       "    </tr>\n",
       "  </thead>\n",
       "  <tbody>\n",
       "    <tr>\n",
       "      <th>count</th>\n",
       "      <td>989</td>\n",
       "      <td>989</td>\n",
       "      <td>140</td>\n",
       "      <td>985</td>\n",
       "      <td>989</td>\n",
       "    </tr>\n",
       "    <tr>\n",
       "      <th>unique</th>\n",
       "      <td>96</td>\n",
       "      <td>452</td>\n",
       "      <td>55</td>\n",
       "      <td>8</td>\n",
       "      <td>2</td>\n",
       "    </tr>\n",
       "    <tr>\n",
       "      <th>top</th>\n",
       "      <td>2016-10-15</td>\n",
       "      <td>2016-03-02</td>\n",
       "      <td>2016-05-14</td>\n",
       "      <td>Tavern_district_3</td>\n",
       "      <td>Female</td>\n",
       "    </tr>\n",
       "    <tr>\n",
       "      <th>freq</th>\n",
       "      <td>31</td>\n",
       "      <td>8</td>\n",
       "      <td>8</td>\n",
       "      <td>391</td>\n",
       "      <td>841</td>\n",
       "    </tr>\n",
       "  </tbody>\n",
       "</table>\n",
       "</div>"
      ],
      "text/plain": [
       "         Deal_date First_deal_date First_default_date             Region  \\\n",
       "count          989             989                140                985   \n",
       "unique          96             452                 55                  8   \n",
       "top     2016-10-15      2016-03-02         2016-05-14  Tavern_district_3   \n",
       "freq            31               8                  8                391   \n",
       "\n",
       "        Gender  \n",
       "count      989  \n",
       "unique       2  \n",
       "top     Female  \n",
       "freq       841  "
      ]
     },
     "execution_count": 35,
     "metadata": {},
     "output_type": "execute_result"
    }
   ],
   "source": [
    "pred.describe(include=[object])"
   ]
  },
  {
   "cell_type": "markdown",
   "id": "b954fff4",
   "metadata": {},
   "source": [
    "Картина очень похожая на данные из тренировки."
   ]
  },
  {
   "cell_type": "markdown",
   "id": "8153b1ad",
   "metadata": {},
   "source": [
    "Делаем заготовки таблиц для отеветов по каждой модели, а так же коллективное голосование моделей Hard Vote (максимально предсказание из 8 моделей) и Soft Vote (среднее предсказание из 8 моделей)."
   ]
  },
  {
   "cell_type": "code",
   "execution_count": 36,
   "id": "8a6700a7",
   "metadata": {},
   "outputs": [],
   "source": [
    "prediction_1 = pd.DataFrame({'Deal_id': pred.Deal_id})\n",
    "prediction_2 = pd.DataFrame({'Deal_id': pred.Deal_id})\n",
    "prediction_3 = pd.DataFrame({'Deal_id': pred.Deal_id})\n",
    "prediction_4 = pd.DataFrame({'Deal_id': pred.Deal_id})\n",
    "prediction_5 = pd.DataFrame({'Deal_id': pred.Deal_id})\n",
    "prediction_6 = pd.DataFrame({'Deal_id': pred.Deal_id})\n",
    "prediction_7 = pd.DataFrame({'Deal_id': pred.Deal_id})\n",
    "prediction_8 = pd.DataFrame({'Deal_id': pred.Deal_id})\n",
    "prediction_max = pd.DataFrame({'Deal_id': pred.Deal_id})\n",
    "prediction_mean = pd.DataFrame({'Deal_id': pred.Deal_id})"
   ]
  },
  {
   "cell_type": "markdown",
   "id": "443b8e9d",
   "metadata": {},
   "source": [
    "Далее обрабатываем и выделяем признаки точно так же, как это делали с тренеровочными данными:"
   ]
  },
  {
   "cell_type": "code",
   "execution_count": 37,
   "id": "ced67b8b",
   "metadata": {},
   "outputs": [],
   "source": [
    "pred['Deal_date'] = pred['Deal_date'].astype('datetime64')\n",
    "pred['First_deal_date'] = pred['First_deal_date'].astype('datetime64')\n",
    "pred['First_default_date'] = pred['First_default_date'].astype('datetime64')"
   ]
  },
  {
   "cell_type": "code",
   "execution_count": 38,
   "id": "29813745",
   "metadata": {},
   "outputs": [],
   "source": [
    "pred['Deal_date_year'] = pred['Deal_date'].dt.year\n",
    "pred['Deal_date_month'] = pred['Deal_date'].dt.month\n",
    "pred['Deal_date_day'] = pred['Deal_date'].dt.day\n",
    "\n",
    "pred['First_deal_date_year'] = pred['First_deal_date'].dt.year\n",
    "pred['First_deal_date_month'] = pred['First_deal_date'].dt.month\n",
    "pred['First_deal_date_day'] = pred['First_deal_date'].dt.day\n",
    "\n",
    "pred['First_default_date_year'] = pred['First_default_date'].dt.year\n",
    "pred['First_default_date_month'] = pred['First_default_date'].dt.month\n",
    "pred['First_default_date_day'] = pred['First_default_date'].dt.day"
   ]
  },
  {
   "cell_type": "code",
   "execution_count": 39,
   "id": "27812679",
   "metadata": {},
   "outputs": [],
   "source": [
    "pred['Days_1'] = pred['Deal_date'] - pred['First_deal_date']\n",
    "pred['Days_2'] = pred['First_default_date'] - pred['First_deal_date']"
   ]
  },
  {
   "cell_type": "code",
   "execution_count": 40,
   "id": "aab30bad",
   "metadata": {},
   "outputs": [],
   "source": [
    "pred['First_default_date'] = pred['First_default_date'].fillna(dt(1970, 1, 1))"
   ]
  },
  {
   "cell_type": "code",
   "execution_count": 41,
   "id": "443f60fc",
   "metadata": {},
   "outputs": [],
   "source": [
    "pred['Deal_date'] = pred['Deal_date'].astype(np.int64) // 10 ** 9 // (60 * 60 * 24)\n",
    "pred['First_deal_date'] = pred['First_deal_date'].astype(np.int64) // 10 ** 9 // (60 * 60 * 24)\n",
    "pred['First_default_date'] = pred['First_default_date'].astype(np.int64) // 10 ** 9 // (60 * 60 * 24)"
   ]
  },
  {
   "cell_type": "code",
   "execution_count": 42,
   "id": "780febaf",
   "metadata": {},
   "outputs": [],
   "source": [
    "pred['Days_2'] = pred['Days_2'].fillna(td(days=0))"
   ]
  },
  {
   "cell_type": "code",
   "execution_count": 43,
   "id": "4e13a3df",
   "metadata": {},
   "outputs": [],
   "source": [
    "pred['Days_1'] = pred['Days_1'].astype(np.int64) // 10 ** 9 // (60 * 60 * 24)\n",
    "pred['Days_2'] = pred['Days_2'].astype(np.int64) // 10 ** 9 // (60 * 60 * 24)"
   ]
  },
  {
   "cell_type": "code",
   "execution_count": 44,
   "id": "dab5206a",
   "metadata": {},
   "outputs": [],
   "source": [
    "pred['dwarf_Age'] = (pred['Secret_dwarf_info_1'] + pred['Secret_dwarf_info_2'] + pred['Secret_dwarf_info_3']) * pred['Age']\n",
    "\n",
    "pred['dwarf_Tavern'] = (pred['Secret_dwarf_info_1'] + pred['Secret_dwarf_info_2'] + pred['Secret_dwarf_info_3']) * pred['Tavern']\n",
    "\n",
    "pred['dwarf_deals'] = (pred['Secret_dwarf_info_1'] + pred['Secret_dwarf_info_2'] + pred['Secret_dwarf_info_3']) * pred['Successful_deals_count']\n",
    "\n",
    "pred['Region'] = pred['Region'].fillna('Tavern_district_8')"
   ]
  },
  {
   "cell_type": "code",
   "execution_count": 45,
   "id": "48682709",
   "metadata": {},
   "outputs": [],
   "source": [
    "pred = pred.fillna(0)"
   ]
  },
  {
   "cell_type": "code",
   "execution_count": 46,
   "id": "07133cf4",
   "metadata": {},
   "outputs": [],
   "source": [
    "pred['Tavern_Age'] = pred['Tavern'] * data['Age']"
   ]
  },
  {
   "cell_type": "code",
   "execution_count": 47,
   "id": "452b0ecb",
   "metadata": {},
   "outputs": [],
   "source": [
    "pred = pred.drop(\n",
    "    [\n",
    "        'Deal_id', 'Secret_dwarf_info_1', 'Secret_dwarf_info_2',\n",
    "        'Secret_dwarf_info_3', 'First_default_date', 'Hashed_deal_detail_6'\n",
    "    ],\n",
    "    axis=1\n",
    ")"
   ]
  },
  {
   "cell_type": "markdown",
   "id": "87b6433e",
   "metadata": {},
   "source": [
    "# Делаем предсказания\n",
    "В качестве ответа от нас ожидается не предсказание класса, а вероятность наступления класса 1, поэтому применяем метод predict_proba к тестовым данным и берём вторую колонку.\n",
    "\n",
    "Предсказание каждой модели (и коллективные) сохраняем в отделный файл, для сдачи на проверку.\n",
    "\n",
    "Сумму считал лично для себя (зачем, объяснить сложно)."
   ]
  },
  {
   "cell_type": "markdown",
   "id": "9bd79617",
   "metadata": {},
   "source": [
    "### 1. Предсказание LogisticRegression"
   ]
  },
  {
   "cell_type": "code",
   "execution_count": 48,
   "id": "86a436be",
   "metadata": {},
   "outputs": [
    {
     "data": {
      "text/plain": [
       "8.381285680353976"
      ]
     },
     "execution_count": 48,
     "metadata": {},
     "output_type": "execute_result"
    }
   ],
   "source": [
    "prediction_1['Prediction'] = search_1.predict_proba(pred)[:, 1]\n",
    "\n",
    "prediction_1.to_csv('prediction_1.csv', index=False)\n",
    "\n",
    "prediction_1.Prediction.sum()"
   ]
  },
  {
   "cell_type": "markdown",
   "id": "2fe12b1b",
   "metadata": {},
   "source": [
    "### 2. Предсказание RandomForestClassifier"
   ]
  },
  {
   "cell_type": "code",
   "execution_count": 49,
   "id": "9c2cbb87",
   "metadata": {},
   "outputs": [
    {
     "data": {
      "text/plain": [
       "63.4112666944623"
      ]
     },
     "execution_count": 49,
     "metadata": {},
     "output_type": "execute_result"
    }
   ],
   "source": [
    "prediction_2['Prediction'] = search_2.predict_proba(pred)[:, 1]\n",
    "\n",
    "prediction_2.to_csv('prediction_2.csv', index=False)\n",
    "\n",
    "prediction_2.Prediction.sum()"
   ]
  },
  {
   "cell_type": "markdown",
   "id": "550d2b21",
   "metadata": {},
   "source": [
    "### 3. Предсказание GradientBoostingClassifier"
   ]
  },
  {
   "cell_type": "code",
   "execution_count": 50,
   "id": "c764b688",
   "metadata": {},
   "outputs": [
    {
     "data": {
      "text/plain": [
       "101.59761541271833"
      ]
     },
     "execution_count": 50,
     "metadata": {},
     "output_type": "execute_result"
    }
   ],
   "source": [
    "prediction_3['Prediction'] = search_3.predict_proba(pred)[:, 1]\n",
    "\n",
    "prediction_3.to_csv('prediction_3.csv', index=False)\n",
    "\n",
    "prediction_3.Prediction.sum()"
   ]
  },
  {
   "cell_type": "markdown",
   "id": "f8a8ba19",
   "metadata": {},
   "source": [
    "### 4. Предсказание KNeighborsClassifier"
   ]
  },
  {
   "cell_type": "code",
   "execution_count": 51,
   "id": "2cd7f7c5",
   "metadata": {},
   "outputs": [
    {
     "data": {
      "text/plain": [
       "85.19274758670429"
      ]
     },
     "execution_count": 51,
     "metadata": {},
     "output_type": "execute_result"
    }
   ],
   "source": [
    "prediction_4['Prediction'] = search_4.predict_proba(pred)[:, 1]\n",
    "\n",
    "prediction_4.to_csv('prediction_4.csv', index=False)\n",
    "\n",
    "prediction_4.Prediction.sum()"
   ]
  },
  {
   "cell_type": "markdown",
   "id": "ab2bc2ba",
   "metadata": {},
   "source": [
    "### 5. Предсказание svm.SVC"
   ]
  },
  {
   "cell_type": "code",
   "execution_count": 52,
   "id": "9613c80d",
   "metadata": {},
   "outputs": [
    {
     "data": {
      "text/plain": [
       "109.9416844101779"
      ]
     },
     "execution_count": 52,
     "metadata": {},
     "output_type": "execute_result"
    }
   ],
   "source": [
    "prediction_5['Prediction'] = search_5.predict_proba(pred)[:, 1]\n",
    "\n",
    "prediction_5.to_csv('prediction_5.csv', index=False)\n",
    "\n",
    "prediction_5.Prediction.sum()"
   ]
  },
  {
   "cell_type": "markdown",
   "id": "ed6c6d00",
   "metadata": {},
   "source": [
    "### 6. Предсказание CatBoostClassifier"
   ]
  },
  {
   "cell_type": "code",
   "execution_count": 53,
   "id": "b7744704",
   "metadata": {},
   "outputs": [
    {
     "data": {
      "text/plain": [
       "95.9552801859371"
      ]
     },
     "execution_count": 53,
     "metadata": {},
     "output_type": "execute_result"
    }
   ],
   "source": [
    "prediction_6['Prediction'] = search_6.predict_proba(pred)[:, 1]\n",
    "\n",
    "prediction_6.to_csv('prediction_6.csv', index=False)\n",
    "\n",
    "prediction_6.Prediction.sum()"
   ]
  },
  {
   "cell_type": "markdown",
   "id": "1bc40811",
   "metadata": {},
   "source": [
    "### 7. Предсказание LGBMClassifier"
   ]
  },
  {
   "cell_type": "code",
   "execution_count": 54,
   "id": "364cdf52",
   "metadata": {},
   "outputs": [
    {
     "data": {
      "text/plain": [
       "58.265357725250965"
      ]
     },
     "execution_count": 54,
     "metadata": {},
     "output_type": "execute_result"
    }
   ],
   "source": [
    "prediction_7['Prediction'] = search_7.predict_proba(pred)[:, 1]\n",
    "\n",
    "prediction_7.to_csv('prediction_7.csv', index=False)\n",
    "\n",
    "prediction_7.Prediction.sum()"
   ]
  },
  {
   "cell_type": "markdown",
   "id": "333d1c7d",
   "metadata": {},
   "source": [
    "### 8. Предсказание XGBClassifier"
   ]
  },
  {
   "cell_type": "code",
   "execution_count": 55,
   "id": "c13625d0",
   "metadata": {},
   "outputs": [
    {
     "data": {
      "text/plain": [
       "84.78485"
      ]
     },
     "execution_count": 55,
     "metadata": {},
     "output_type": "execute_result"
    }
   ],
   "source": [
    "prediction_8['Prediction'] = search_8.predict_proba(pred)[:, 1]\n",
    "\n",
    "prediction_8.to_csv('prediction_8.csv', index=False)\n",
    "\n",
    "prediction_8.Prediction.sum()"
   ]
  },
  {
   "cell_type": "markdown",
   "id": "4e301cb8",
   "metadata": {},
   "source": [
    "### 9. Hard vote"
   ]
  },
  {
   "cell_type": "code",
   "execution_count": 56,
   "id": "e6c5b7a6",
   "metadata": {},
   "outputs": [
    {
     "data": {
      "text/plain": [
       "144.21418483468614"
      ]
     },
     "execution_count": 56,
     "metadata": {},
     "output_type": "execute_result"
    }
   ],
   "source": [
    "prediction_max['Prediction_1'] = prediction_1['Prediction']\n",
    "prediction_max['Prediction_2'] = prediction_2['Prediction']\n",
    "prediction_max['Prediction_3'] = prediction_3['Prediction']\n",
    "prediction_max['Prediction_4'] = prediction_4['Prediction']\n",
    "prediction_max['Prediction_5'] = prediction_5['Prediction']\n",
    "prediction_max['Prediction_6'] = prediction_6['Prediction']\n",
    "prediction_max['Prediction_7'] = prediction_7['Prediction']\n",
    "prediction_max['Prediction_8'] = prediction_8['Prediction']\n",
    "\n",
    "prediction_max['Prediction'] = prediction_max[\n",
    "    [\n",
    "        'Prediction_1', 'Prediction_2', 'Prediction_3', 'Prediction_4',\n",
    "        'Prediction_5', 'Prediction_6', 'Prediction_7', 'Prediction_8'\n",
    "    ]\n",
    "].max(axis=1)\n",
    "prediction_max.drop(\n",
    "    [\n",
    "        'Prediction_1', 'Prediction_2', 'Prediction_3', 'Prediction_4',\n",
    "        'Prediction_5', 'Prediction_6', 'Prediction_7', 'Prediction_8'\n",
    "    ],\n",
    "    axis=1,\n",
    "    inplace=True\n",
    ")\n",
    "\n",
    "prediction_max.to_csv('prediction_max.csv', index=False)\n",
    "\n",
    "prediction_max.Prediction.sum()"
   ]
  },
  {
   "cell_type": "markdown",
   "id": "c97eeacc",
   "metadata": {},
   "source": [
    "### 10. Soft vote"
   ]
  },
  {
   "cell_type": "code",
   "execution_count": 57,
   "id": "8afb3dc1",
   "metadata": {},
   "outputs": [
    {
     "data": {
      "text/plain": [
       "75.94126080053303"
      ]
     },
     "execution_count": 57,
     "metadata": {},
     "output_type": "execute_result"
    }
   ],
   "source": [
    "prediction_mean['Prediction_1'] = prediction_1['Prediction']\n",
    "prediction_mean['Prediction_2'] = prediction_2['Prediction']\n",
    "prediction_mean['Prediction_3'] = prediction_3['Prediction']\n",
    "prediction_mean['Prediction_4'] = prediction_4['Prediction']\n",
    "prediction_mean['Prediction_5'] = prediction_5['Prediction']\n",
    "prediction_mean['Prediction_6'] = prediction_6['Prediction']\n",
    "prediction_mean['Prediction_7'] = prediction_7['Prediction']\n",
    "prediction_mean['Prediction_8'] = prediction_8['Prediction']\n",
    "\n",
    "prediction_mean['Prediction'] = prediction_mean[\n",
    "    [\n",
    "        'Prediction_1', 'Prediction_2', 'Prediction_3', 'Prediction_4',\n",
    "        'Prediction_5', 'Prediction_6', 'Prediction_7', 'Prediction_8'\n",
    "    ]\n",
    "].mean(axis=1)\n",
    "prediction_mean.drop(\n",
    "    [\n",
    "        'Prediction_1', 'Prediction_2', 'Prediction_3', 'Prediction_4',\n",
    "        'Prediction_5', 'Prediction_6', 'Prediction_7', 'Prediction_8'\n",
    "    ],\n",
    "    axis=1,\n",
    "    inplace=True\n",
    ")\n",
    "\n",
    "prediction_mean.to_csv('prediction_mean.csv', index=False)\n",
    "\n",
    "prediction_mean.Prediction.sum()"
   ]
  },
  {
   "cell_type": "markdown",
   "id": "17a07ba7",
   "metadata": {},
   "source": [
    "# Итоги"
   ]
  },
  {
   "cell_type": "markdown",
   "id": "4d8e9fa7",
   "metadata": {},
   "source": [
    "Напомню, что от нас хотели получить качества на тестовых данных не менее 0.7.\n",
    "\n",
    "Как видно из процесса обучения и проверки 7 из 8 обученных моделей преодолевают данный bassline.\n",
    "\n",
    "На практике же всё оказалось с точностью до наоборот. Лишь одна модель svm.SVC, которая при обучении показала чсебя хуже всех, смогла преодолеть bassline. Ну и коллективное голосование по схеме Soft Vote.\n",
    "\n",
    "Всё дело здесь заключается в том, что признаки по классово на тренировочных и на тестовых данных сильно различаются. В связи с этим качество предсказания моделей не достаточное.\n",
    "\n",
    "Так же мною скорее всего были совершены следующие ошибки в обработки данных:\n",
    "1. признаки кандидаты на удаление следовало оставить;\n",
    "2. заполнение нулями пропусков, следовало заполнять средним в числовых колонках и самым частым в категориальных;\n",
    "3. колонку с пропуском дат нужно было заполнить какой-то очень отдалённой датой в будущем (сделать выброс);\n",
    "4. не совсем понятно, нужны ли были фичи, полученные из сложения и перемножения признаков (качество моих моделей они увеличивали);\n",
    "5. неплохо было бы всю обработку признаков свести в функции, чтобы не копипастить код.\n",
    "\n",
    "По итогу простой RandomForestClassifier способен справиться с данной задачей.\n",
    "\n",
    "Есть ещё один способ решения задачи: глубокий анализ данных и отбора небольшого количества признаков для обучения. В таком случае с поставленной задачай справляется даже LogisticRegression."
   ]
  }
 ],
 "metadata": {
  "kernelspec": {
   "display_name": "Python 3.10.7 64-bit",
   "language": "python",
   "name": "python3"
  },
  "language_info": {
   "codemirror_mode": {
    "name": "ipython",
    "version": 3
   },
   "file_extension": ".py",
   "mimetype": "text/x-python",
   "name": "python",
   "nbconvert_exporter": "python",
   "pygments_lexer": "ipython3",
   "version": "3.10.7"
  },
  "vscode": {
   "interpreter": {
    "hash": "6f6e3b0ee54f96a09601f5bd9d9e22617a546e266b81c92c7eca224313b467ca"
   }
  }
 },
 "nbformat": 4,
 "nbformat_minor": 5
}
